{
 "cells": [
  {
   "cell_type": "raw",
   "metadata": {},
   "source": [
    "Q 1.1: Write a Python Program(with class concepts) to find the area of the triangle using the below formula. \n",
    " \n",
    "area = (s*(s-a)*(s-b)*(s-c)) ** 0.5 \n",
    " \n",
    "Function to take the length of the sides of triangle from user should be defined in the parent class and function to calculate the area should be defined in subclass. \n",
    "\n",
    "s = (a+b+c)/2\n"
   ]
  },
  {
   "cell_type": "code",
   "execution_count": 22,
   "metadata": {},
   "outputs": [
    {
     "name": "stdout",
     "output_type": "stream",
     "text": [
      "Given length values from parent class :  13 , 14 , 17\n",
      "Calculated s :  22.0\n",
      "Calculated area from child class :  357.64227937982946\n"
     ]
    }
   ],
   "source": [
    "class triangle:\n",
    "    def __init__(self,a,b,c):\n",
    "        self.a=a\n",
    "        self.b=b\n",
    "        self.c=c\n",
    "        print(\"Given length values from parent class : \",a,\",\",b,\",\",c)\n",
    "        \n",
    "        \n",
    "class tarea(triangle):\n",
    "    def __init__(self,a,b,c):\n",
    "        super(tarea,self).__init__(a,b,c)\n",
    "        \n",
    "    def area(self):\n",
    "        s=(self.a+self.b+self.c)/2\n",
    "        print(\"Calculated s : \",s)\n",
    "        area = (s*(s-a)*(s-b)*(s-c)) ** 0.5 \n",
    "        print(\"Calculated area from child class : \",area)\n",
    "        \n",
    "        \n",
    "t=tarea(13,14,17)\n",
    "t.area()\n",
    "    "
   ]
  },
  {
   "cell_type": "raw",
   "metadata": {},
   "source": [
    "Q 1.2: Write a function filter_long_words() that takes a list of words and an integer n and returns the list of words that are longer than n. "
   ]
  },
  {
   "cell_type": "code",
   "execution_count": 9,
   "metadata": {},
   "outputs": [
    {
     "name": "stdout",
     "output_type": "stream",
     "text": [
      "['abacus', 'hand', 'writing', 'tennis', 'print']\n",
      "['people', 'India']\n"
     ]
    }
   ],
   "source": [
    "def filter_long_words(n,lst):\n",
    "    result=[] \n",
    "    for i in lst:\n",
    "        if len(i)>n:\n",
    "            result.append(i)\n",
    "    return result\n",
    "\n",
    "list1=['tee','abacus','hand','writing','tennis','print']\n",
    "print(filter_long_words(3,list1))\n",
    "print(filter_long_words(4,[\"we\",\"the\",\"people\",\"of\",\"India\"]))\n",
    "    "
   ]
  },
  {
   "cell_type": "raw",
   "metadata": {},
   "source": [
    "Q 2.1: Write a Python program using function concept that maps list of words into a list of integers representing the lengths of the corresponding words. \n",
    " \n",
    "Hint: If a list [ ab,cde,erty] is passed on to the python function output should come as [2,3,4] \n",
    " \n",
    "Here 2,3 and 4 are the lengths of the words in the list. \n",
    " \n",
    " "
   ]
  },
  {
   "cell_type": "code",
   "execution_count": 4,
   "metadata": {},
   "outputs": [
    {
     "name": "stdout",
     "output_type": "stream",
     "text": [
      "[2, 3, 4, 5, 2]\n"
     ]
    }
   ],
   "source": [
    "def len_of_words(wlist):\n",
    "    count=[]\n",
    "    for i in wlist:        \n",
    "        count.append(len(i))\n",
    "    return count\n",
    "final=len_of_words([\"ab\",\"cde\",\"fghi\",\"rough\",'be'])\n",
    "print(final)\n",
    "        "
   ]
  },
  {
   "cell_type": "raw",
   "metadata": {},
   "source": [
    "Q 2.2: Write a Python function which takes a character (i.e. a string of length 1) and returns True if it is a vowel, False otherwise"
   ]
  },
  {
   "cell_type": "code",
   "execution_count": 18,
   "metadata": {},
   "outputs": [
    {
     "name": "stdout",
     "output_type": "stream",
     "text": [
      "False\n"
     ]
    }
   ],
   "source": [
    "def is_vowel(s):\n",
    "    ls=['a','e','i','o','u']\n",
    "    \n",
    "    for i in range(0,len(ls)):\n",
    "        \n",
    "        if str(s)==ls[i]:\n",
    "            result=True\n",
    "            break\n",
    "        else:\n",
    "            result=False\n",
    "    return result\n",
    "\n",
    "print(is_vowel('f'))\n"
   ]
  },
  {
   "cell_type": "code",
   "execution_count": null,
   "metadata": {},
   "outputs": [],
   "source": []
  }
 ],
 "metadata": {
  "kernelspec": {
   "display_name": "Python 3",
   "language": "python",
   "name": "python3"
  },
  "language_info": {
   "codemirror_mode": {
    "name": "ipython",
    "version": 3
   },
   "file_extension": ".py",
   "mimetype": "text/x-python",
   "name": "python",
   "nbconvert_exporter": "python",
   "pygments_lexer": "ipython3",
   "version": "3.7.6"
  }
 },
 "nbformat": 4,
 "nbformat_minor": 4
}
